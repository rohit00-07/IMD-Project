{
 "cells": [
  {
   "cell_type": "code",
   "execution_count": 1,
   "metadata": {},
   "outputs": [
    {
     "name": "stdout",
     "output_type": "stream",
     "text": [
      "Upload Multiple CSV Files\n"
     ]
    },
    {
     "name": "stderr",
     "output_type": "stream",
     "text": [
      "2025-03-16 12:43:58.639 Python[3155:34328] +[IMKClient subclass]: chose IMKClient_Modern\n",
      "2025-03-16 12:43:59.072 Python[3155:34328] The class 'NSOpenPanel' overrides the method identifier.  This method is implemented by class 'NSWindow'\n"
     ]
    },
    {
     "name": "stdout",
     "output_type": "stream",
     "text": [
      "Merged DataFrame:\n",
      "             DATETIME  RAIN_DAILY(mm)_0  TEMP(C)_0  RH(%)_0  RAIN_DAILY(mm)_1  \\\n",
      "0 2024-12-01 00:00:00               0.0       18.0     68.0               0.0   \n",
      "1 2024-12-01 00:15:00               0.0       17.9     69.0               0.0   \n",
      "2 2024-12-01 00:30:00               0.0       17.9     69.0               0.0   \n",
      "3 2024-12-01 00:45:00               0.0       17.8     71.0               0.0   \n",
      "4 2024-12-01 01:00:00               0.0       17.8     71.0               0.0   \n",
      "\n",
      "   TEMP(C)_1  RH(%)_1  RAIN_DAILY(mm)_2  TEMP(C)_2  RH(%)_2  RAIN_DAILY(mm)_3  \\\n",
      "0       18.7    100.0               0.0       15.6     83.0               0.0   \n",
      "1       19.0    100.0               0.0       15.7     83.0               0.0   \n",
      "2       19.0    100.0               0.0       15.9     83.0               0.0   \n",
      "3       19.0    100.0               0.0       15.7     83.0               0.0   \n",
      "4       19.0    100.0               0.0       15.9     82.0               0.0   \n",
      "\n",
      "   TEMP(C)_3  RH(%)_3  RAIN_DAILY(mm)_4  TEMP(C)_4  RH(%)_4  \n",
      "0       14.9     92.0               0.0       12.8    100.0  \n",
      "1       14.9     92.0               0.0       12.9    100.0  \n",
      "2       14.8     92.0               0.0       12.8    100.0  \n",
      "3       15.0     92.0               0.0       12.9    100.0  \n",
      "4       14.9     92.0               0.0       13.0    100.0  \n",
      "Merged CSV saved as merged_output.csv\n"
     ]
    }
   ],
   "source": [
    "import pandas as pd\n",
    "from tkinter import Tk\n",
    "from tkinter.filedialog import askopenfilenames\n",
    "\n",
    "# Select multiple CSV files\n",
    "print(\"Upload Multiple CSV Files\")\n",
    "Tk().withdraw()  # Prevents the root window from appearing\n",
    "filenames = askopenfilenames(title=\"Select Multiple CSV Files\")\n",
    "\n",
    "# Read all CSVs and convert DATETIME column to datetime format\n",
    "dfs = []\n",
    "for i, file in enumerate(filenames):\n",
    "    df = pd.read_csv(file)\n",
    "    if 'DATETIME' in df.columns:\n",
    "        df['DATETIME'] = pd.to_datetime(df['DATETIME'])  # Convert to datetime format\n",
    "        df = df.set_index('DATETIME')  # Set as index for merging\n",
    "        dfs.append(df.add_suffix(f\"_{i}\"))  # Add suffix to avoid duplicate column names\n",
    "    else:\n",
    "        raise ValueError(f\"DATETIME column not found in {file}\")\n",
    "\n",
    "# Merge all DataFrames on the DATETIME index\n",
    "merged_df = pd.concat(dfs, axis=1).reset_index()\n",
    "\n",
    "# Display merged data\n",
    "print(\"Merged DataFrame:\")\n",
    "print(merged_df.head())\n",
    "\n",
    "# Save merged file\n",
    "merged_df.to_csv(\"merged_output.csv\", index=False)\n",
    "print(\"Merged CSV saved as merged_output.csv\")"
   ]
  },
  {
   "cell_type": "code",
   "execution_count": null,
   "metadata": {},
   "outputs": [],
   "source": []
  }
 ],
 "metadata": {
  "kernelspec": {
   "display_name": ".venv",
   "language": "python",
   "name": "python3"
  },
  "language_info": {
   "codemirror_mode": {
    "name": "ipython",
    "version": 3
   },
   "file_extension": ".py",
   "mimetype": "text/x-python",
   "name": "python",
   "nbconvert_exporter": "python",
   "pygments_lexer": "ipython3",
   "version": "3.12.4"
  }
 },
 "nbformat": 4,
 "nbformat_minor": 2
}
