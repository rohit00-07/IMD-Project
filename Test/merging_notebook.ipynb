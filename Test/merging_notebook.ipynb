{
 "cells": [
  {
   "cell_type": "code",
   "execution_count": 1,
   "metadata": {},
   "outputs": [
    {
     "name": "stdout",
     "output_type": "stream",
     "text": [
      "Upload Multiple CSV Files\n"
     ]
    }
   ],
   "source": [
    "import pandas as pd\n",
    "from tkinter import Tk\n",
    "from tkinter.filedialog import askopenfilenames\n",
    "\n",
    "# Select multiple CSV files\n",
    "print(\"Upload Multiple CSV Files\")\n",
    "\n",
    "root=Tk()\n",
    "root.withdraw()  # Prevents the root window from appearing\n",
    "filenames = askopenfilenames(title=\"Select Multiple CSV Files\")\n",
    "\n",
    "# Read all CSVs and convert DATETIME column to datetime format\n",
    "dfs = []\n",
    "for i, file in enumerate(filenames):\n",
    "    df = pd.read_csv(file)\n",
    "    if 'DATETIME' in df.columns:\n",
    "        df['DATETIME'] = pd.to_datetime(df['DATETIME'])  # Convert to datetime format\n",
    "        df = df.set_index('DATETIME')  # Set as index for merging\n",
    "        dfs.append(df.add_suffix(f\"_{i}\"))  # Add suffix to avoid duplicate column names\n",
    "    else:\n",
    "        raise ValueError(f\"DATETIME column not found in {file}\")\n",
    "\n",
    "# Merge all DataFrames on the DATETIME index\n",
    "merged_df = pd.concat(dfs, axis=1).reset_index()\n",
    "\n",
    "# Display merged data\n",
    "print(\"Merged DataFrame:\")\n",
    "print(merged_df.head())\n",
    "\n",
    "# Save merged file\n",
    "merged_df.to_csv(\"merged_output.csv\", index=False)\n",
    "print(\"Merged CSV saved as merged_output.csv\")"
   ]
  },
  {
   "cell_type": "code",
   "execution_count": null,
   "metadata": {},
   "outputs": [],
   "source": []
  }
 ],
 "metadata": {
  "kernelspec": {
   "display_name": ".venv",
   "language": "python",
   "name": "python3"
  },
  "language_info": {
   "codemirror_mode": {
    "name": "ipython",
    "version": 3
   },
   "file_extension": ".py",
   "mimetype": "text/x-python",
   "name": "python",
   "nbconvert_exporter": "python",
   "pygments_lexer": "ipython3",
   "version": "3.12.4"
  }
 },
 "nbformat": 4,
 "nbformat_minor": 2
}
