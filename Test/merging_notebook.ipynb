{
 "cells": [
  {
   "cell_type": "code",
   "execution_count": null,
   "metadata": {},
   "outputs": [],
   "source": [
    "import pandas as pd\n",
    "from tkinter import Tk\n",
    "from tkinter.filedialog import askopenfilenames\n",
    "\n",
    "# Select multiple CSV files\n",
    "print(\"Upload Multiple CSV Files\")\n",
    "Tk().withdraw()  # Prevents the root window from appearing\n",
    "filenames = askopenfilenames(title=\"Select Multiple CSV Files\")\n",
    "\n",
    "# Read all CSVs and convert DATETIME column to datetime format\n",
    "dfs = []\n",
    "for i, file in enumerate(filenames):\n",
    "    df = pd.read_csv(file)\n",
    "    if 'DATETIME' in df.columns:\n",
    "        df['DATETIME'] = pd.to_datetime(df['DATETIME'])  # Convert to datetime format\n",
    "        df = df.set_index('DATETIME')  # Set as index for merging\n",
    "        dfs.append(df.add_suffix(f\"_{i}\"))  # Add suffix to avoid duplicate column names\n",
    "    else:\n",
    "        raise ValueError(f\"DATETIME column not found in {file}\")\n",
    "\n",
    "# Merge all DataFrames on the DATETIME index\n",
    "merged_df = pd.concat(dfs, axis=1).reset_index()\n",
    "\n",
    "# Display merged data\n",
    "print(\"Merged DataFrame:\")\n",
    "print(merged_df.head())\n",
    "\n",
    "# Save merged file\n",
    "merged_df.to_csv(\"merged_output.csv\", index=False)\n",
    "print(\"Merged CSV saved as merged_output.csv\")"
   ]
  }
 ],
 "metadata": {
  "language_info": {
   "name": "python"
  }
 },
 "nbformat": 4,
 "nbformat_minor": 2
}
