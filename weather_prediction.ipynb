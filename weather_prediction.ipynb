{
 "cells": [
  {
   "cell_type": "markdown",
   "id": "702d2d2b",
   "metadata": {},
   "source": [
    "# Weather Prediction using RNN"
   ]
  },
  {
   "cell_type": "code",
   "execution_count": null,
   "id": "50befac8",
   "metadata": {},
   "outputs": [],
   "source": [
    "\n",
    "# Install necessary libraries\n",
    "!pip install pandas numpy scikit-learn tensorflow\n"
   ]
  },
  {
   "cell_type": "code",
   "execution_count": null,
   "id": "05277906",
   "metadata": {},
   "outputs": [],
   "source": [
    "\n",
    "import pandas as pd\n",
    "import numpy as np\n",
    "import tensorflow as tf\n",
    "from tensorflow.keras.models import Sequential\n",
    "from tensorflow.keras.layers import LSTM, Dense\n",
    "from sklearn.preprocessing import MinMaxScaler\n",
    "\n",
    "# Load CSV file (Replace with your actual file path)\n",
    "df = pd.read_csv(\"stations.csv\")\n",
    "\n",
    "# Display first few rows\n",
    "df.head()\n"
   ]
  },
  {
   "cell_type": "code",
   "execution_count": null,
   "id": "0f1782d9",
   "metadata": {},
   "outputs": [],
   "source": [
    "\n",
    "# Define the targeted station ID (output)\n",
    "target_station_id = 101  # Replace with your target station ID\n",
    "\n",
    "# Define selected stations (input)\n",
    "selected_station_ids = [102, 103, 104]  # Replace with your selected station IDs\n",
    "\n",
    "# Filter dataset for input and target stations\n",
    "target_df = df[df[\"Station ID\"] == target_station_id].copy()\n",
    "input_df = df[df[\"Station ID\"].isin(selected_station_ids)].copy()\n",
    "\n",
    "# Sort data by date\n",
    "target_df = target_df.sort_values(by=\"Date\")\n",
    "input_df = input_df.sort_values(by=\"Date\")\n",
    "\n",
    "# Normalize features\n",
    "scaler = MinMaxScaler()\n",
    "target_df.iloc[:, 2:] = scaler.fit_transform(target_df.iloc[:, 2:])\n",
    "input_df.iloc[:, 2:] = scaler.transform(input_df.iloc[:, 2:])\n",
    "\n",
    "# Convert to NumPy arrays\n",
    "X = input_df.iloc[:, 2:].values  # Input features\n",
    "Y = target_df.iloc[:, 2:].values  # Output features\n"
   ]
  },
  {
   "cell_type": "code",
   "execution_count": null,
   "id": "a77f444d",
   "metadata": {},
   "outputs": [],
   "source": [
    "\n",
    "# Function to create sequences\n",
    "def create_sequences(X, Y, time_steps=7):\n",
    "    X_seq, Y_seq = [], []\n",
    "    for i in range(len(X) - time_steps):\n",
    "        X_seq.append(X[i : i + time_steps])\n",
    "        Y_seq.append(Y[i + time_steps])  # Predicting next day after sequence\n",
    "    return np.array(X_seq), np.array(Y_seq)\n",
    "\n",
    "time_steps = 7  # Predicting next 7 days\n",
    "X_train, Y_train = create_sequences(X, Y, time_steps)\n"
   ]
  },
  {
   "cell_type": "code",
   "execution_count": null,
   "id": "b31690f5",
   "metadata": {},
   "outputs": [],
   "source": [
    "\n",
    "# Define RNN model\n",
    "model = Sequential([\n",
    "    LSTM(50, activation='relu', return_sequences=True, input_shape=(time_steps, X_train.shape[2])),\n",
    "    LSTM(50, activation='relu'),\n",
    "    Dense(Y_train.shape[1])  # Output layer for multi-feature prediction\n",
    "])\n",
    "\n",
    "# Compile model\n",
    "model.compile(optimizer=\"adam\", loss=\"mse\")\n",
    "\n",
    "# Train model (you can increase epochs for better performance)\n",
    "model.fit(X_train, Y_train, epochs=50, batch_size=16, verbose=1)\n"
   ]
  },
  {
   "cell_type": "code",
   "execution_count": null,
   "id": "6bdce976",
   "metadata": {},
   "outputs": [],
   "source": [
    "\n",
    "# Predict next 7 days\n",
    "test_input = X_train[-1].reshape(1, time_steps, X_train.shape[2])  # Take the last sequence\n",
    "predicted_weather = model.predict(test_input)\n",
    "\n",
    "# Display Predictions\n",
    "print(\"Predicted Weather for Next 7 Days:\", predicted_weather)\n"
   ]
  }
 ],
 "metadata": {
  "kernelspec": {
   "display_name": "Python 3",
   "language": "python",
   "name": "python3"
  },
  "language_info": {
   "name": "python",
   "version": "3.12.4"
  }
 },
 "nbformat": 4,
 "nbformat_minor": 5
}
